{
 "cells": [
  {
   "cell_type": "code",
   "execution_count": 1,
   "metadata": {},
   "outputs": [],
   "source": [
    "import pandas as pd\n",
    "import pickle\n",
    "import sys\n",
    "import os\n",
    "sys.path.append(\"/Users/ziniuwu/Desktop/research/BayesCard\")\n",
    "from DataPrepare.join_data_preparation import JoinDataPreparator\n",
    "from Models.Bayescard_BN import Bayescard_BN, build_meta_info"
   ]
  },
  {
   "cell_type": "code",
   "execution_count": 2,
   "metadata": {},
   "outputs": [
    {
     "name": "stdout",
     "output_type": "stream",
     "text": [
      "BN will be trained on the full outer join of following relations\n",
      "table5.table1Id = table1.Id\n",
      "table5.table0Id = table0.Id\n",
      "table2.table0Id = table0.Id\n",
      "table6.table1Id = table1.Id\n",
      "table6.table1Id2 = table1.Id\n",
      "table4.table1Id = table1.Id\n",
      "table4.table0Id = table0.Id\n",
      "table3.table1Id = table1.Id\n",
      "table3.table0Id = table0.Id\n",
      "table1.table0Id = table0.Id\n"
     ]
    }
   ],
   "source": [
    "hdf_path = \"/Users/ziniuwu/Desktop/research/dataset/DB0/gen_hdf\"\n",
    "meta_data_path = hdf_path + '/meta_data.pkl'\n",
    "from DataPrepare.schemas import gen_DB0_schema\n",
    "schema = gen_DB0_schema(hdf_path)\n",
    "prep = JoinDataPreparator(meta_data_path, schema, max_table_data=20000000)\n",
    "print(f\"BN will be trained on the full outer join of following relations\")\n",
    "for relationship_obj in schema.relationships:\n",
    "    print(relationship_obj.identifier)"
   ]
  },
  {
   "cell_type": "code",
   "execution_count": 4,
   "metadata": {},
   "outputs": [
    {
     "name": "stdout",
     "output_type": "stream",
     "text": [
      "training on relation: ['table5.table1Id = table1.Id']\n",
      "['table5.table1Id = table1.Id']\n",
      "{'table5', 'table1'}\n",
      "Discretizing table takes 1.744023084640503 secs\n",
      "Structure learning took 17.742879390716553 secs.\n",
      "done, parameter learning took 0.8223247528076172 secs.\n",
      "{'table5', 'table1'}\n",
      "model saved at /home/ziniu.wzn/AttEst_support/DB0/BN_ensemble/0_chow-liu_1.pkl\n",
      "training on relation: ['table5.table0Id = table0.Id']\n"
     ]
    },
    {
     "name": "stderr",
     "output_type": "stream",
     "text": [
      "/home/ziniu.wzn/anaconda3/envs/deepdb/lib/python3.7/site-packages/pandas/core/reshape/merge.py:970: UserWarning: You are merging on int and float columns where the float values are not equal to their int representation\n",
      "  'representation', UserWarning)\n",
      "/home/ziniu.wzn/BayesCard/DataPrepare/join_data_preparation.py:507: FutureWarning: Sorting because non-concatenation axis is not aligned. A future version\n",
      "of pandas will change to not sort by default.\n",
      "\n",
      "To accept the future behavior, pass 'sort=False'.\n",
      "\n",
      "To retain the current behavior and silence the warning, pass 'sort=True'.\n",
      "\n",
      "  df_samples = pd.concat([df_samples, wo_join_partners])\n"
     ]
    },
    {
     "name": "stdout",
     "output_type": "stream",
     "text": [
      "['table5.table0Id = table0.Id']\n",
      "{'table5', 'table0'}\n",
      "Discretizing table takes 9.863198280334473 secs\n",
      "Structure learning took 16.45506763458252 secs.\n",
      "done, parameter learning took 0.8436038494110107 secs.\n",
      "{'table5', 'table0'}\n",
      "model saved at /home/ziniu.wzn/AttEst_support/DB0/BN_ensemble/1_chow-liu_1.pkl\n",
      "training on relation: ['table2.table0Id = table0.Id']\n",
      "['table2.table0Id = table0.Id']\n",
      "{'table2', 'table0'}\n",
      "Discretizing table takes 7.279861211776733 secs\n",
      "Structure learning took 10.212557315826416 secs.\n",
      "done, parameter learning took 0.4665682315826416 secs.\n",
      "{'table2', 'table0'}\n",
      "model saved at /home/ziniu.wzn/AttEst_support/DB0/BN_ensemble/2_chow-liu_1.pkl\n",
      "training on relation: ['table6.table1Id = table1.Id']\n",
      "['table6.table1Id = table1.Id']\n",
      "{'table1', 'table6'}\n",
      "Discretizing table takes 1.4059221744537354 secs\n",
      "Structure learning took 9.25333547592163 secs.\n",
      "done, parameter learning took 0.4601912498474121 secs.\n",
      "{'table1', 'table6'}\n",
      "model saved at /home/ziniu.wzn/AttEst_support/DB0/BN_ensemble/3_chow-liu_1.pkl\n",
      "training on relation: ['table6.table1Id2 = table1.Id']\n",
      "['table6.table1Id2 = table1.Id']\n",
      "{'table1', 'table6'}\n",
      "Discretizing table takes 1.4076180458068848 secs\n",
      "Structure learning took 9.910461664199829 secs.\n",
      "done, parameter learning took 0.45871806144714355 secs.\n",
      "{'table1', 'table6'}\n",
      "model saved at /home/ziniu.wzn/AttEst_support/DB0/BN_ensemble/4_chow-liu_1.pkl\n",
      "training on relation: ['table4.table1Id = table1.Id']\n",
      "['table4.table1Id = table1.Id']\n",
      "{'table1', 'table4'}\n",
      "Discretizing table takes 2.256070852279663 secs\n",
      "Structure learning took 27.34373426437378 secs.\n",
      "done, parameter learning took 1.3906917572021484 secs.\n",
      "{'table1', 'table4'}\n",
      "model saved at /home/ziniu.wzn/AttEst_support/DB0/BN_ensemble/5_chow-liu_1.pkl\n",
      "training on relation: ['table4.table0Id = table0.Id']\n"
     ]
    },
    {
     "name": "stderr",
     "output_type": "stream",
     "text": [
      "/home/ziniu.wzn/anaconda3/envs/deepdb/lib/python3.7/site-packages/pandas/core/reshape/merge.py:970: UserWarning: You are merging on int and float columns where the float values are not equal to their int representation\n",
      "  'representation', UserWarning)\n",
      "/home/ziniu.wzn/BayesCard/DataPrepare/join_data_preparation.py:507: FutureWarning: Sorting because non-concatenation axis is not aligned. A future version\n",
      "of pandas will change to not sort by default.\n",
      "\n",
      "To accept the future behavior, pass 'sort=False'.\n",
      "\n",
      "To retain the current behavior and silence the warning, pass 'sort=True'.\n",
      "\n",
      "  df_samples = pd.concat([df_samples, wo_join_partners])\n"
     ]
    },
    {
     "name": "stdout",
     "output_type": "stream",
     "text": [
      "['table4.table0Id = table0.Id']\n",
      "{'table0', 'table4'}\n",
      "Discretizing table takes 12.052683115005493 secs\n",
      "Structure learning took 26.105427503585815 secs.\n",
      "done, parameter learning took 1.8948149681091309 secs.\n",
      "{'table0', 'table4'}\n",
      "model saved at /home/ziniu.wzn/AttEst_support/DB0/BN_ensemble/6_chow-liu_1.pkl\n",
      "training on relation: ['table3.table1Id = table1.Id']\n",
      "['table3.table1Id = table1.Id']\n",
      "{'table1', 'table3'}\n",
      "Discretizing table takes 6.607516765594482 secs\n",
      "Structure learning took 20.241971492767334 secs.\n",
      "done, parameter learning took 1.4869487285614014 secs.\n",
      "{'table1', 'table3'}\n",
      "model saved at /home/ziniu.wzn/AttEst_support/DB0/BN_ensemble/7_chow-liu_1.pkl\n",
      "training on relation: ['table3.table0Id = table0.Id']\n"
     ]
    },
    {
     "name": "stderr",
     "output_type": "stream",
     "text": [
      "/home/ziniu.wzn/anaconda3/envs/deepdb/lib/python3.7/site-packages/pandas/core/reshape/merge.py:970: UserWarning: You are merging on int and float columns where the float values are not equal to their int representation\n",
      "  'representation', UserWarning)\n",
      "/home/ziniu.wzn/BayesCard/DataPrepare/join_data_preparation.py:507: FutureWarning: Sorting because non-concatenation axis is not aligned. A future version\n",
      "of pandas will change to not sort by default.\n",
      "\n",
      "To accept the future behavior, pass 'sort=False'.\n",
      "\n",
      "To retain the current behavior and silence the warning, pass 'sort=True'.\n",
      "\n",
      "  df_samples = pd.concat([df_samples, wo_join_partners])\n"
     ]
    },
    {
     "name": "stdout",
     "output_type": "stream",
     "text": [
      "['table3.table0Id = table0.Id']\n",
      "{'table3', 'table0'}\n",
      "Discretizing table takes 17.794811487197876 secs\n",
      "Structure learning took 9.743288516998291 secs.\n",
      "done, parameter learning took 1.5422906875610352 secs.\n",
      "{'table3', 'table0'}\n",
      "model saved at /home/ziniu.wzn/AttEst_support/DB0/BN_ensemble/8_chow-liu_1.pkl\n",
      "training on relation: ['table1.table0Id = table0.Id']\n"
     ]
    },
    {
     "name": "stderr",
     "output_type": "stream",
     "text": [
      "/home/ziniu.wzn/anaconda3/envs/deepdb/lib/python3.7/site-packages/pandas/core/reshape/merge.py:970: UserWarning: You are merging on int and float columns where the float values are not equal to their int representation\n",
      "  'representation', UserWarning)\n",
      "/home/ziniu.wzn/BayesCard/DataPrepare/join_data_preparation.py:507: FutureWarning: Sorting because non-concatenation axis is not aligned. A future version\n",
      "of pandas will change to not sort by default.\n",
      "\n",
      "To accept the future behavior, pass 'sort=False'.\n",
      "\n",
      "To retain the current behavior and silence the warning, pass 'sort=True'.\n",
      "\n",
      "  df_samples = pd.concat([df_samples, wo_join_partners])\n"
     ]
    },
    {
     "name": "stdout",
     "output_type": "stream",
     "text": [
      "['table1.table0Id = table0.Id']\n",
      "{'table1', 'table0'}\n",
      "Discretizing table takes 10.172842979431152 secs\n",
      "Structure learning took 21.96578621864319 secs.\n",
      "done, parameter learning took 1.1334726810455322 secs.\n",
      "{'table1', 'table0'}\n",
      "model saved at /home/ziniu.wzn/AttEst_support/DB0/BN_ensemble/9_chow-liu_1.pkl\n"
     ]
    }
   ],
   "source": [
    "algorithm = \"chow-liu\"\n",
    "max_parents = 1\n",
    "sample_size = 200000\n",
    "model_folder = \"/Users/ziniuwu/Desktop/research/dataset/DB0/BN_ensemble\"\n",
    "\n",
    "for i, relationship_obj in enumerate(schema.relationships):\n",
    "    df_sample_size = 10000000\n",
    "    relation = [relationship_obj.identifier]\n",
    "    print(\"training on relation:\", relation)\n",
    "    df, meta_types, null_values, full_join_est = prep.generate_n_samples(\n",
    "        df_sample_size, relationship_list=relation, post_sampling_factor=10)\n",
    "    columns = list(df.columns)\n",
    "    assert len(columns) == len(meta_types) == len(null_values)\n",
    "    \n",
    "    meta_info = build_meta_info(df.columns, null_values)\n",
    "    bn = Bayescard_BN(schema, relation, column_names=columns, full_join_size=len(df), table_set=set(),\n",
    "                      table_meta_data=prep.table_meta_data, meta_types=meta_types, null_values=null_values,\n",
    "                      meta_info=meta_info)\n",
    "    print(relation)\n",
    "    print(bn.table_set)\n",
    "    model_path = model_folder + f\"/{i}_{algorithm}_{max_parents}.pkl\"\n",
    "    bn.build_from_data(df, algorithm=algorithm, max_parents=max_parents, ignore_cols=['Id'],\n",
    "                       sample_size=sample_size)\n",
    "    print(bn.table_set)\n",
    "    pickle.dump(bn, open(model_path, 'wb'), pickle.HIGHEST_PROTOCOL)\n",
    "    print(f\"model saved at {model_path}\")"
   ]
  },
  {
   "cell_type": "code",
   "execution_count": 12,
   "metadata": {},
   "outputs": [
    {
     "name": "stdout",
     "output_type": "stream",
     "text": [
      "2_chow-liu_1.pkl\n",
      "4_chow-liu_1.pkl\n",
      "8_chow-liu_1.pkl\n",
      "3_chow-liu_1.pkl\n",
      "1_chow-liu_1.pkl\n",
      "6_chow-liu_1.pkl\n",
      "7_chow-liu_1.pkl\n",
      "9_chow-liu_1.pkl\n",
      "5_chow-liu_1.pkl\n",
      "0_chow-liu_1.pkl\n"
     ]
    }
   ],
   "source": [
    "from Models.BN_ensemble_model import BN_ensemble\n",
    "def load_ensemble(schema, model_path=\"/home/ziniu.wzn/AttEst_support/DB0/BN_ensemble/\"):\n",
    "    bn_ensemble = BN_ensemble(schema)\n",
    "    for file in os.listdir(model_path):\n",
    "        if file.endswith(\".pkl\"):\n",
    "            print(file)\n",
    "            with open(model_path+file, \"rb\") as f:\n",
    "                bn = pickle.load(f)\n",
    "                bn.infer_algo = \"exact-jit\"\n",
    "                bn.init_inference_method()\n",
    "            bn_ensemble.bns.append(bn)\n",
    "            #bn_ensemble.bns[int(file[0])] = bn\n",
    "    return bn_ensemble\n",
    "bn_ensemble = load_ensemble(schema)"
   ]
  },
  {
   "cell_type": "code",
   "execution_count": 11,
   "metadata": {},
   "outputs": [
    {
     "ename": "NameError",
     "evalue": "name 'file' is not defined",
     "output_type": "error",
     "traceback": [
      "\u001b[0;31m---------------------------------------------------------------------------\u001b[0m",
      "\u001b[0;31mNameError\u001b[0m                                 Traceback (most recent call last)",
      "\u001b[0;32m<ipython-input-11-c5c8e482c064>\u001b[0m in \u001b[0;36m<module>\u001b[0;34m\u001b[0m\n\u001b[0;32m----> 1\u001b[0;31m \u001b[0mint\u001b[0m\u001b[0;34m(\u001b[0m\u001b[0mfile\u001b[0m\u001b[0;34m[\u001b[0m\u001b[0;36m0\u001b[0m\u001b[0;34m]\u001b[0m\u001b[0;34m)\u001b[0m\u001b[0;34m\u001b[0m\u001b[0;34m\u001b[0m\u001b[0m\n\u001b[0m",
      "\u001b[0;31mNameError\u001b[0m: name 'file' is not defined"
     ]
    }
   ],
   "source": [
    "from DataPrepare.query_prepare_BayesCard import prepare_join_queries\n"
   ]
  },
  {
   "cell_type": "code",
   "execution_count": null,
   "metadata": {},
   "outputs": [],
   "source": []
  }
 ],
 "metadata": {
  "kernelspec": {
   "display_name": "Python 3",
   "language": "python",
   "name": "python3"
  },
  "language_info": {
   "codemirror_mode": {
    "name": "ipython",
    "version": 3
   },
   "file_extension": ".py",
   "mimetype": "text/x-python",
   "name": "python",
   "nbconvert_exporter": "python",
   "pygments_lexer": "ipython3",
   "version": "3.7.7"
  }
 },
 "nbformat": 4,
 "nbformat_minor": 4
}
