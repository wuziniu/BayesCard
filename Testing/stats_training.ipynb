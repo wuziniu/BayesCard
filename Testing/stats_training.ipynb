{
 "cells": [
  {
   "cell_type": "code",
   "execution_count": 1,
   "metadata": {},
   "outputs": [],
   "source": [
    "import pandas as pd\n",
    "import pickle\n",
    "import sys\n",
    "import os\n",
    "sys.path.append(\"/home/ziniu.wzn/BayesCard\")\n",
    "from DataPrepare.join_data_preparation import JoinDataPreparator\n",
    "from Models.Bayescard_BN import Bayescard_BN, build_meta_info"
   ]
  },
  {
   "cell_type": "code",
   "execution_count": 5,
   "metadata": {},
   "outputs": [
    {
     "name": "stdout",
     "output_type": "stream",
     "text": [
      "BN will be trained on the full outer join of following relations\n",
      "comments.PostId = posts.Id\n",
      "comments.UserId = users.Id\n",
      "badges.UserId = users.Id\n",
      "tags.ExcerptPostId = posts.Id\n",
      "postLinks.PostId = posts.Id\n",
      "postLinks.RelatedPostId = posts.Id\n",
      "postHistory.PostId = posts.Id\n",
      "postHistory.UserId = users.Id\n",
      "votes.PostId = posts.Id\n",
      "votes.UserId = users.Id\n",
      "posts.OwnerUserId = users.Id\n"
     ]
    }
   ],
   "source": [
    "hdf_path = \"/home/ziniu.wzn/stats/gen_single_light\"\n",
    "meta_data_path = hdf_path + '/meta_data.pkl'\n",
    "from DataPrepare.schemas import gen_DB0_schema, gen_stats_light_schema\n",
    "schema = gen_stats_light_schema(\"/home/ziniu.wzn/stats\")\n",
    "prep = JoinDataPreparator(meta_data_path, schema, max_table_data=20000000)\n",
    "print(f\"BN will be trained on the full outer join of following relations\")\n",
    "for relationship_obj in schema.relationships:\n",
    "    print(relationship_obj.identifier)"
   ]
  },
  {
   "cell_type": "code",
   "execution_count": 6,
   "metadata": {},
   "outputs": [
    {
     "name": "stdout",
     "output_type": "stream",
     "text": [
      "training on relation\n",
      "Discretizing table takes 1.8333439826965332 secs\n",
      "Structure learning took 15.725023984909058 secs.\n",
      "done, parameter learning took 0.9257287979125977 secs.\n",
      "model saved at /home/ziniu.wzn/stats/BayesCard_temp/0_chow-liu_1.pkl\n",
      "training on relation\n"
     ]
    },
    {
     "name": "stderr",
     "output_type": "stream",
     "text": [
      "/home/ziniu.wzn/anaconda3/envs/deepdb/lib/python3.7/site-packages/pandas/core/reshape/merge.py:970: UserWarning: You are merging on int and float columns where the float values are not equal to their int representation\n",
      "  'representation', UserWarning)\n",
      "/home/ziniu.wzn/BayesCard/DataPrepare/join_data_preparation.py:507: FutureWarning: Sorting because non-concatenation axis is not aligned. A future version\n",
      "of pandas will change to not sort by default.\n",
      "\n",
      "To accept the future behavior, pass 'sort=False'.\n",
      "\n",
      "To retain the current behavior and silence the warning, pass 'sort=True'.\n",
      "\n",
      "  df_samples = pd.concat([df_samples, wo_join_partners])\n"
     ]
    },
    {
     "name": "stdout",
     "output_type": "stream",
     "text": [
      "Discretizing table takes 8.109903573989868 secs\n",
      "Structure learning took 10.367659091949463 secs.\n",
      "done, parameter learning took 0.7171745300292969 secs.\n",
      "model saved at /home/ziniu.wzn/stats/BayesCard_temp/1_chow-liu_1.pkl\n",
      "training on relation\n",
      "Discretizing table takes 5.9259443283081055 secs\n",
      "Structure learning took 6.092707872390747 secs.\n",
      "done, parameter learning took 0.3254077434539795 secs.\n",
      "model saved at /home/ziniu.wzn/stats/BayesCard_temp/2_chow-liu_1.pkl\n",
      "training on relation\n"
     ]
    },
    {
     "name": "stderr",
     "output_type": "stream",
     "text": [
      "/home/ziniu.wzn/anaconda3/envs/deepdb/lib/python3.7/site-packages/pandas/core/reshape/merge.py:970: UserWarning: You are merging on int and float columns where the float values are not equal to their int representation\n",
      "  'representation', UserWarning)\n",
      "/home/ziniu.wzn/BayesCard/DataPrepare/join_data_preparation.py:507: FutureWarning: Sorting because non-concatenation axis is not aligned. A future version\n",
      "of pandas will change to not sort by default.\n",
      "\n",
      "To accept the future behavior, pass 'sort=False'.\n",
      "\n",
      "To retain the current behavior and silence the warning, pass 'sort=True'.\n",
      "\n",
      "  df_samples = pd.concat([df_samples, wo_join_partners])\n"
     ]
    },
    {
     "name": "stdout",
     "output_type": "stream",
     "text": [
      "Discretizing table takes 2.3717033863067627 secs\n",
      "Structure learning took 9.710107803344727 secs.\n",
      "done, parameter learning took 0.5084080696105957 secs.\n",
      "model saved at /home/ziniu.wzn/stats/BayesCard_temp/3_chow-liu_1.pkl\n",
      "training on relation\n",
      "Discretizing table takes 1.4450650215148926 secs\n",
      "Structure learning took 9.705158233642578 secs.\n",
      "done, parameter learning took 0.48624348640441895 secs.\n",
      "model saved at /home/ziniu.wzn/stats/BayesCard_temp/4_chow-liu_1.pkl\n",
      "training on relation\n",
      "Discretizing table takes 1.4438705444335938 secs\n",
      "Structure learning took 10.211598634719849 secs.\n",
      "done, parameter learning took 0.49811863899230957 secs.\n",
      "model saved at /home/ziniu.wzn/stats/BayesCard_temp/5_chow-liu_1.pkl\n",
      "training on relation\n",
      "Discretizing table takes 1.970289707183838 secs\n",
      "Structure learning took 22.01914095878601 secs.\n",
      "done, parameter learning took 1.1211318969726562 secs.\n",
      "model saved at /home/ziniu.wzn/stats/BayesCard_temp/6_chow-liu_1.pkl\n",
      "training on relation\n"
     ]
    },
    {
     "name": "stderr",
     "output_type": "stream",
     "text": [
      "/home/ziniu.wzn/anaconda3/envs/deepdb/lib/python3.7/site-packages/pandas/core/reshape/merge.py:970: UserWarning: You are merging on int and float columns where the float values are not equal to their int representation\n",
      "  'representation', UserWarning)\n",
      "/home/ziniu.wzn/BayesCard/DataPrepare/join_data_preparation.py:507: FutureWarning: Sorting because non-concatenation axis is not aligned. A future version\n",
      "of pandas will change to not sort by default.\n",
      "\n",
      "To accept the future behavior, pass 'sort=False'.\n",
      "\n",
      "To retain the current behavior and silence the warning, pass 'sort=True'.\n",
      "\n",
      "  df_samples = pd.concat([df_samples, wo_join_partners])\n"
     ]
    },
    {
     "name": "stdout",
     "output_type": "stream",
     "text": [
      "Discretizing table takes 9.526138067245483 secs\n",
      "Structure learning took 14.238501071929932 secs.\n",
      "done, parameter learning took 1.066662073135376 secs.\n",
      "model saved at /home/ziniu.wzn/stats/BayesCard_temp/7_chow-liu_1.pkl\n",
      "training on relation\n",
      "Discretizing table takes 6.289434909820557 secs\n",
      "Structure learning took 20.075660943984985 secs.\n",
      "done, parameter learning took 1.6056325435638428 secs.\n",
      "model saved at /home/ziniu.wzn/stats/BayesCard_temp/8_chow-liu_1.pkl\n",
      "training on relation\n"
     ]
    },
    {
     "name": "stderr",
     "output_type": "stream",
     "text": [
      "/home/ziniu.wzn/anaconda3/envs/deepdb/lib/python3.7/site-packages/pandas/core/reshape/merge.py:970: UserWarning: You are merging on int and float columns where the float values are not equal to their int representation\n",
      "  'representation', UserWarning)\n",
      "/home/ziniu.wzn/BayesCard/DataPrepare/join_data_preparation.py:507: FutureWarning: Sorting because non-concatenation axis is not aligned. A future version\n",
      "of pandas will change to not sort by default.\n",
      "\n",
      "To accept the future behavior, pass 'sort=False'.\n",
      "\n",
      "To retain the current behavior and silence the warning, pass 'sort=True'.\n",
      "\n",
      "  df_samples = pd.concat([df_samples, wo_join_partners])\n"
     ]
    },
    {
     "name": "stdout",
     "output_type": "stream",
     "text": [
      "Discretizing table takes 15.816088676452637 secs\n",
      "Structure learning took 7.065018892288208 secs.\n",
      "done, parameter learning took 1.5047211647033691 secs.\n",
      "model saved at /home/ziniu.wzn/stats/BayesCard_temp/9_chow-liu_1.pkl\n",
      "training on relation\n"
     ]
    },
    {
     "name": "stderr",
     "output_type": "stream",
     "text": [
      "/home/ziniu.wzn/anaconda3/envs/deepdb/lib/python3.7/site-packages/pandas/core/reshape/merge.py:970: UserWarning: You are merging on int and float columns where the float values are not equal to their int representation\n",
      "  'representation', UserWarning)\n",
      "/home/ziniu.wzn/BayesCard/DataPrepare/join_data_preparation.py:507: FutureWarning: Sorting because non-concatenation axis is not aligned. A future version\n",
      "of pandas will change to not sort by default.\n",
      "\n",
      "To accept the future behavior, pass 'sort=False'.\n",
      "\n",
      "To retain the current behavior and silence the warning, pass 'sort=True'.\n",
      "\n",
      "  df_samples = pd.concat([df_samples, wo_join_partners])\n"
     ]
    },
    {
     "name": "stdout",
     "output_type": "stream",
     "text": [
      "Discretizing table takes 8.792738914489746 secs\n",
      "Structure learning took 20.64398193359375 secs.\n",
      "done, parameter learning took 1.1227610111236572 secs.\n",
      "model saved at /home/ziniu.wzn/stats/BayesCard_temp/10_chow-liu_1.pkl\n"
     ]
    }
   ],
   "source": [
    "algorithm = \"chow-liu\"\n",
    "max_parents = 1\n",
    "sample_size = 200000\n",
    "model_folder = \"/home/ziniu.wzn/stats/BayesCard_temp\"\n",
    "\n",
    "for i, relationship_obj in enumerate(schema.relationships):\n",
    "    df_sample_size = 10000000\n",
    "    relation = [relationship_obj.identifier]\n",
    "    print(\"training on relation\", relation)\n",
    "    df, meta_types, null_values, full_join_est = prep.generate_n_samples(\n",
    "        df_sample_size, relationship_list=relation, post_sampling_factor=10)\n",
    "    columns = list(df.columns)\n",
    "    assert len(columns) == len(meta_types) == len(null_values)\n",
    "    \n",
    "    meta_info = build_meta_info(df.columns, null_values)\n",
    "    bn = Bayescard_BN(schema, relation, column_names=columns, full_join_size=len(df),\n",
    "                      table_meta_data=prep.table_meta_data, meta_types=meta_types, null_values=null_values,\n",
    "                      meta_info=meta_info)\n",
    "    model_path = model_folder + f\"/{i}_{algorithm}_{max_parents}.pkl\"\n",
    "    bn.build_from_data(df, algorithm=algorithm, max_parents=max_parents, ignore_cols=['Id'],\n",
    "                       sample_size=sample_size)\n",
    "    pickle.dump(bn, open(model_path, 'wb'), pickle.HIGHEST_PROTOCOL)\n",
    "    print(f\"model saved at {model_path}\")"
   ]
  },
  {
   "cell_type": "code",
   "execution_count": null,
   "metadata": {},
   "outputs": [],
   "source": []
  }
 ],
 "metadata": {
  "kernelspec": {
   "display_name": "Python 3",
   "language": "python",
   "name": "python3"
  },
  "language_info": {
   "codemirror_mode": {
    "name": "ipython",
    "version": 3
   },
   "file_extension": ".py",
   "mimetype": "text/x-python",
   "name": "python",
   "nbconvert_exporter": "python",
   "pygments_lexer": "ipython3",
   "version": "3.7.11"
  }
 },
 "nbformat": 4,
 "nbformat_minor": 4
}
