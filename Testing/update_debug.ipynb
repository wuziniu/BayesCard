{
 "cells": [
  {
   "cell_type": "code",
   "execution_count": 7,
   "metadata": {},
   "outputs": [],
   "source": [
    "import numpy as np\n",
    "import pandas as pd\n",
    "import matplotlib.pyplot as plt\n",
    "from scipy.stats import pareto\n",
    "import sys\n",
    "import pickle\n",
    "sys.path.append('/Users/ziniuwu/Desktop/research/BayesCard')\n",
    "from Models.Bayescard_BN import Bayescard_BN\n",
    "from time import perf_counter\n",
    "from Evaluation.utils import parse_query\n",
    "from Evaluation.cardinality_estimation import parse_query_single_table"
   ]
  },
  {
   "cell_type": "code",
   "execution_count": 8,
   "metadata": {},
   "outputs": [],
   "source": [
    "def discretize_series(s, domain_size):\n",
    "    n_invalid = len(s[s>=domain_size])\n",
    "    s = s[s<domain_size]\n",
    "    s = np.floor(s)\n",
    "    new_s = np.random.randint(domain_size, size=n_invalid)\n",
    "    s = np.concatenate((s, new_s))\n",
    "    return np.random.permutation(s)\n",
    "    \n",
    "def data_generation(skew, domain_size, correlation, column_size, nrows=1000000):\n",
    "    data = np.zeros((column_size, nrows))\n",
    "    for i in range(column_size):\n",
    "        if i == 0:\n",
    "            s = np.random.randint(domain_size, size=nrows)\n",
    "            data[i,:] = s\n",
    "            continue\n",
    "        s = pareto.rvs(b=skew, scale=1, size=nrows)\n",
    "        s = discretize_series(s, domain_size)\n",
    "        if i == 1:\n",
    "            selected_cols = [0]\n",
    "        else:\n",
    "            #num_selected_cols = max(np.random.randint(int(np.ceil(i*0.1))), 1)\n",
    "            num_selected_cols = 1\n",
    "            selected_cols = np.random.permutation(i)[0:num_selected_cols]\n",
    "        idx = np.random.permutation(nrows)[0:int(nrows*correlation)]\n",
    "        if len(idx) != 0:\n",
    "            selected_data = data[selected_cols, :]\n",
    "            selected_data = np.ceil(np.mean(selected_data, axis=0))\n",
    "            s[idx] = selected_data[idx]\n",
    "        assert len(np.unique(s)) <= domain_size, \"invalid domain\"\n",
    "        data[i,:] = s\n",
    "        \n",
    "    data = pd.DataFrame(data=data.transpose(), columns=[f\"attr{i}\" for i in range(column_size)])\n",
    "    return data\n",
    "\n",
    "def query_generation(data, table_name, num_sample=200, p=0.8, nval_per_col=4, skip_zero_bit=6):\n",
    "    queries = []\n",
    "    cards = []\n",
    "    for i in range(num_sample):\n",
    "        query, card = generate_single_query(data, table_name, p, nval_per_col, skip_zero_bit)\n",
    "        while query is None:\n",
    "            query, card = generate_single_query(data, table_name, p, nval_per_col, skip_zero_bit)\n",
    "        queries.append(query)\n",
    "        cards.append(card)\n",
    "    return queries, cards\n",
    "\n",
    "def generate_single_query(df, table_name, p=0.8, nval_per_col=4, skip_zero_bit=6):\n",
    "    \"\"\"\n",
    "    p, nval_per_col, and skip_zero_bit are controlling the true cardinality size. As we know smaller true card \n",
    "    generally leads to larger q-error, which will bias the experimental result, so we use this to control the \n",
    "    true card to be similar for all experiments.\n",
    "    \"\"\"\n",
    "    query = f\"SELECT COUNT(*) FROM {table_name} WHERE \"\n",
    "    execute_query = \"\"\n",
    "    column_names = df.columns\n",
    "    n_cols = 0\n",
    "    for i, col in enumerate(column_names):\n",
    "        a = np.random.choice([0,1], p=[p,1-p])\n",
    "        if a == 0:\n",
    "            index = np.random.choice(len(df), size=nval_per_col)\n",
    "            val = sorted(list(df[col].iloc[index]))\n",
    "            left_val = val[0]\n",
    "            right_val = val[-1]\n",
    "            if left_val == right_val:\n",
    "                sub_query = col + '==' + str(left_val) + ' and '\n",
    "                act_sub_query = col + ' = ' + str(left_val) + ' AND '\n",
    "            else:\n",
    "                if skip_zero_bit:\n",
    "                    left_val += skip_zero_bit\n",
    "                    right_val += skip_zero_bit\n",
    "                sub_query = str(left_val) + ' <= ' + col + ' <= ' + str(right_val) + ' and '\n",
    "                act_sub_query = col + ' >= ' + str(left_val) + ' AND ' + col + ' <= ' + str(right_val) + ' AND '\n",
    "            execute_query += sub_query\n",
    "            query += act_sub_query\n",
    "    if execute_query == \"\":\n",
    "        return None,  None\n",
    "    execute_query = execute_query[:-5]\n",
    "    query = query[:-5]\n",
    "    try:\n",
    "        card = len(df.query(execute_query))\n",
    "    except:\n",
    "        card = 0\n",
    "    if card==0:\n",
    "        return None, None\n",
    "    return query, card"
   ]
  },
  {
   "cell_type": "code",
   "execution_count": 9,
   "metadata": {},
   "outputs": [
    {
     "name": "stdout",
     "output_type": "stream",
     "text": [
      "Discretizing table takes 4.798412084579468 secs\n",
      "Structure learning took 1.342918872833252 secs.\n",
      "done, parameter learning took 1.5890908241271973 secs.\n"
     ]
    }
   ],
   "source": [
    "skew=1.0\n",
    "domain_size=100\n",
    "correlation=0.4\n",
    "column_size=10\n",
    "nrows=1000000\n",
    "num_sample=200\n",
    "p=0.8\n",
    "nval_per_col=4\n",
    "skip_zero_bit=6\n",
    "rows_to_use=10000\n",
    "n_mcv=30\n",
    "n_bins=70\n",
    "data = data_generation(skew, domain_size, correlation, column_size, nrows=nrows)\n",
    "name = f\"toy_{skew}_{domain_size}_{correlation}_{column_size}\"\n",
    "queries, cards = query_generation(data, name, num_sample, p, nval_per_col, skip_zero_bit)\n",
    "BN = Bayescard_BN(name)\n",
    "BN.build_from_data(data, sample_size=rows_to_use, n_mcv=n_mcv, n_bins=n_bins)"
   ]
  },
  {
   "cell_type": "code",
   "execution_count": 10,
   "metadata": {},
   "outputs": [],
   "source": [
    "data2 = data_generation(skew, domain_size, correlation, column_size, nrows=100000)\n",
    "BN.update(data2)"
   ]
  },
  {
   "cell_type": "code",
   "execution_count": 17,
   "metadata": {},
   "outputs": [],
   "source": [
    "vc = data2['attr0'].value_counts()"
   ]
  },
  {
   "cell_type": "code",
   "execution_count": 25,
   "metadata": {},
   "outputs": [
    {
     "data": {
      "text/plain": [
       "1088"
      ]
     },
     "execution_count": 25,
     "metadata": {},
     "output_type": "execute_result"
    }
   ],
   "source": [
    "vc[53]"
   ]
  },
  {
   "cell_type": "code",
   "execution_count": null,
   "metadata": {},
   "outputs": [],
   "source": []
  }
 ],
 "metadata": {
  "kernelspec": {
   "display_name": "Python 3",
   "language": "python",
   "name": "python3"
  },
  "language_info": {
   "codemirror_mode": {
    "name": "ipython",
    "version": 3
   },
   "file_extension": ".py",
   "mimetype": "text/x-python",
   "name": "python",
   "nbconvert_exporter": "python",
   "pygments_lexer": "ipython3",
   "version": "3.7.7"
  }
 },
 "nbformat": 4,
 "nbformat_minor": 4
}
