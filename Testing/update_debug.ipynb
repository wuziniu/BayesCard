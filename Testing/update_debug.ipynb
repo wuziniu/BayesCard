{
 "cells": [
  {
   "cell_type": "code",
   "execution_count": 1,
   "metadata": {},
   "outputs": [],
   "source": [
    "import numpy as np\n",
    "import pandas as pd\n",
    "import matplotlib.pyplot as plt\n",
    "from scipy.stats import pareto\n",
    "import sys\n",
    "import pickle\n",
    "sys.path.append('/Users/ziniuwu/Desktop/research/BayesCard')\n",
    "from Models.Bayescard_BN import Bayescard_BN, build_meta_info\n",
    "from time import perf_counter\n",
    "from Evaluation.utils import parse_query\n",
    "from Evaluation.cardinality_estimation import parse_query_single_table"
   ]
  },
  {
   "cell_type": "code",
   "execution_count": 2,
   "metadata": {},
   "outputs": [],
   "source": [
    "def discretize_series(s, domain_size):\n",
    "    n_invalid = len(s[s>=domain_size])\n",
    "    s = s[s<domain_size]\n",
    "    s = np.floor(s)\n",
    "    new_s = np.random.randint(domain_size, size=n_invalid)\n",
    "    s = np.concatenate((s, new_s))\n",
    "    return np.random.permutation(s)\n",
    "    \n",
    "def data_generation(skew, domain_size, correlation, column_size, nrows=1000000):\n",
    "    data = np.zeros((column_size, nrows))\n",
    "    for i in range(column_size):\n",
    "        if i == 0:\n",
    "            s = np.random.randint(domain_size, size=nrows)\n",
    "            data[i,:] = s\n",
    "            continue\n",
    "        s = pareto.rvs(b=skew, scale=1, size=nrows)\n",
    "        s = discretize_series(s, domain_size)\n",
    "        if i == 1:\n",
    "            selected_cols = [0]\n",
    "        else:\n",
    "            #num_selected_cols = max(np.random.randint(int(np.ceil(i*0.1))), 1)\n",
    "            num_selected_cols = 1\n",
    "            selected_cols = np.random.permutation(i)[0:num_selected_cols]\n",
    "        idx = np.random.permutation(nrows)[0:int(nrows*correlation)]\n",
    "        if len(idx) != 0:\n",
    "            selected_data = data[selected_cols, :]\n",
    "            selected_data = np.ceil(np.mean(selected_data, axis=0))\n",
    "            s[idx] = selected_data[idx]\n",
    "        assert len(np.unique(s)) <= domain_size, \"invalid domain\"\n",
    "        data[i,:] = s\n",
    "        \n",
    "    data = pd.DataFrame(data=data.transpose(), columns=[f\"attr{i}\" for i in range(column_size)])\n",
    "    return data\n",
    "\n",
    "def query_generation(data, table_name, num_sample=200, p=0.8, nval_per_col=4, skip_zero_bit=6):\n",
    "    queries = []\n",
    "    cards = []\n",
    "    for i in range(num_sample):\n",
    "        query, card = generate_single_query(data, table_name, p, nval_per_col, skip_zero_bit)\n",
    "        while query is None:\n",
    "            query, card = generate_single_query(data, table_name, p, nval_per_col, skip_zero_bit)\n",
    "        queries.append(query)\n",
    "        cards.append(card)\n",
    "    return queries, cards\n",
    "\n",
    "def generate_single_query(df, table_name, p=0.8, nval_per_col=4, skip_zero_bit=6):\n",
    "    \"\"\"\n",
    "    p, nval_per_col, and skip_zero_bit are controlling the true cardinality size. As we know smaller true card \n",
    "    generally leads to larger q-error, which will bias the experimental result, so we use this to control the \n",
    "    true card to be similar for all experiments.\n",
    "    \"\"\"\n",
    "    query = f\"SELECT COUNT(*) FROM {table_name} WHERE \"\n",
    "    execute_query = \"\"\n",
    "    column_names = df.columns\n",
    "    n_cols = 0\n",
    "    for i, col in enumerate(column_names):\n",
    "        a = np.random.choice([0,1], p=[p,1-p])\n",
    "        if a == 0:\n",
    "            index = np.random.choice(len(df), size=nval_per_col)\n",
    "            val = sorted(list(df[col].iloc[index]))\n",
    "            left_val = val[0]\n",
    "            right_val = val[-1]\n",
    "            if left_val == right_val:\n",
    "                sub_query = col + '==' + str(left_val) + ' and '\n",
    "                act_sub_query = col + ' = ' + str(left_val) + ' AND '\n",
    "            else:\n",
    "                if skip_zero_bit:\n",
    "                    left_val += skip_zero_bit\n",
    "                    right_val += skip_zero_bit\n",
    "                sub_query = str(left_val) + ' <= ' + col + ' <= ' + str(right_val) + ' and '\n",
    "                act_sub_query = col + ' >= ' + str(left_val) + ' AND ' + col + ' <= ' + str(right_val) + ' AND '\n",
    "            execute_query += sub_query\n",
    "            query += act_sub_query\n",
    "    if execute_query == \"\":\n",
    "        return None,  None\n",
    "    execute_query = execute_query[:-5]\n",
    "    query = query[:-5]\n",
    "    try:\n",
    "        card = len(df.query(execute_query))\n",
    "    except:\n",
    "        card = 0\n",
    "    if card==0:\n",
    "        return None, None\n",
    "    return query, card"
   ]
  },
  {
   "cell_type": "code",
   "execution_count": 3,
   "metadata": {},
   "outputs": [],
   "source": [
    "skew=1.0\n",
    "domain_size=100\n",
    "correlation=0.4\n",
    "column_size=10\n",
    "nrows=1000000\n",
    "num_sample=200\n",
    "p=0.8\n",
    "nval_per_col=4\n",
    "skip_zero_bit=6\n",
    "rows_to_use=10000\n",
    "n_mcv=30\n",
    "n_bins=70\n",
    "data = data_generation(skew, domain_size, correlation, column_size, nrows=nrows)\n",
    "data['attr10'] = np.arange(len(data))\n",
    "data['fanout_mul_1'] = np.random.randint(50, size=len(data))\n",
    "data['fanout_mul_1_nn'] = np.random.randint(50, size=len(data))\n",
    "name = f\"toy_{skew}_{domain_size}_{correlation}_{column_size}\"\n",
    "queries, cards = query_generation(data, name, num_sample, p, nval_per_col, skip_zero_bit)\n",
    "meta_info = build_meta_info(list(data.columns), None)\n",
    "BN = Bayescard_BN(name, full_join_size=len(data), meta_info = meta_info)\n",
    "BN.build_from_data(data, sample_size=rows_to_use, n_mcv=n_mcv, n_bins=n_bins)"
   ]
  },
  {
   "cell_type": "code",
   "execution_count": 4,
   "metadata": {},
   "outputs": [],
   "source": [
    "def test_CardEst(BN, queries, cards):\n",
    "    BN.infer_algo = \"exact-jit\"\n",
    "    BN.init_inference_method()\n",
    "    latencies = []\n",
    "    q_errors = []\n",
    "    for query_no, query_str in enumerate(queries):\n",
    "        query = parse_query_single_table(query_str.strip(), BN)\n",
    "        cardinality_true = cards[query_no]\n",
    "        card_start_t = perf_counter()\n",
    "        cardinality_predict = BN.query(query)\n",
    "        card_end_t = perf_counter()\n",
    "        latency_ms = (card_end_t - card_start_t) * 1000\n",
    "        if cardinality_predict == 0 and cardinality_true == 0:\n",
    "            q_error = 1.0\n",
    "        elif np.isnan(cardinality_predict) or cardinality_predict == 0:\n",
    "            cardinality_predict = 1\n",
    "            q_error = max(cardinality_predict / cardinality_true, cardinality_true / cardinality_predict)\n",
    "        elif cardinality_true == 0:\n",
    "            cardinality_true = 1\n",
    "            q_error = max(cardinality_predict / cardinality_true, cardinality_true / cardinality_predict)\n",
    "        else:\n",
    "            q_error = max(cardinality_predict / cardinality_true, cardinality_true / cardinality_predict)\n",
    "        latencies.append(latency_ms)\n",
    "        q_errors.append(q_error)\n",
    "    for i in [50, 90, 95, 99, 100]:\n",
    "        print(f\"q-error {i}% percentile is {np.percentile(q_errors, i)}\")\n",
    "    print(f\"average latency is {np.mean(latencies)} ms\")\n",
    "    return q_errors, latencies"
   ]
  },
  {
   "cell_type": "code",
   "execution_count": null,
   "metadata": {},
   "outputs": [],
   "source": [
    "print(\"the original model performance:\")\n",
    "_, _ = test_CardEst(BN, queries, cards)"
   ]
  },
  {
   "cell_type": "code",
   "execution_count": 5,
   "metadata": {},
   "outputs": [
    {
     "name": "stdout",
     "output_type": "stream",
     "text": [
      "Discretizing table takes 4.318660259246826 secs\n",
      "Structure learning took 1.5511717796325684 secs.\n",
      "done, parameter learning took 1.6098380088806152 secs.\n",
      "Discretizing table took 2.398975133895874 secs.\n"
     ]
    },
    {
     "name": "stderr",
     "output_type": "stream",
     "text": [
      "WARNING:root:Replacing existing CPD for attr0\n",
      "WARNING:root:Replacing existing CPD for attr1\n",
      "WARNING:root:Replacing existing CPD for attr10\n",
      "WARNING:root:Replacing existing CPD for attr2\n",
      "WARNING:root:Replacing existing CPD for attr3\n",
      "WARNING:root:Replacing existing CPD for attr4\n",
      "WARNING:root:Replacing existing CPD for attr5\n",
      "WARNING:root:Replacing existing CPD for attr6\n",
      "WARNING:root:Replacing existing CPD for attr7\n",
      "WARNING:root:Replacing existing CPD for attr8\n",
      "WARNING:root:Replacing existing CPD for attr9\n",
      "WARNING:root:Replacing existing CPD for fanout_mul_1\n",
      "WARNING:root:Replacing existing CPD for fanout_mul_1_nn\n"
     ]
    },
    {
     "name": "stdout",
     "output_type": "stream",
     "text": [
      "done, incremental parameter updating took 1.0968120098114014 secs.\n"
     ]
    }
   ],
   "source": [
    "data_stale = data[0:700000]\n",
    "data_update = data[700000:]\n",
    "meta_info = build_meta_info(list(data_stale.columns), None)\n",
    "BN = Bayescard_BN(name, full_join_size=len(data_stale), meta_info = meta_info)\n",
    "BN.build_from_data(data_stale, sample_size=rows_to_use, n_mcv=n_mcv, n_bins=n_bins)\n",
    "BN.update_from_data(data_update)"
   ]
  },
  {
   "cell_type": "code",
   "execution_count": null,
   "metadata": {},
   "outputs": [],
   "source": []
  },
  {
   "cell_type": "code",
   "execution_count": 7,
   "metadata": {},
   "outputs": [
    {
     "name": "stdout",
     "output_type": "stream",
     "text": [
      "q-error 50% percentile is 1.5329097427360434\n",
      "q-error 90% percentile is 3.3354626337336586\n",
      "q-error 95% percentile is 4.627138520947003\n",
      "q-error 99% percentile is 12.425659946460712\n",
      "q-error 100% percentile is 19.420508824896515\n",
      "average latency is 7.003136390000293 ms\n"
     ]
    }
   ],
   "source": [
    "_,_ = test_CardEst(BN, queries, cards)"
   ]
  },
  {
   "cell_type": "code",
   "execution_count": null,
   "metadata": {},
   "outputs": [],
   "source": [
    "data2 = data_generation(2.0, 300, correlation, column_size, nrows=100000)\n",
    "data2['attr10'] = np.arange(len(data2))-50000\n",
    "data2['fanout_mul_1'] = np.random.randint(50, size=len(data2))\n",
    "data2['fanout_mul_1_nn'] = np.random.randint(50, size=len(data2))\n",
    "new_BN = BN.update_from_data(data2)"
   ]
  },
  {
   "cell_type": "code",
   "execution_count": null,
   "metadata": {},
   "outputs": [],
   "source": [
    "for col in BN.attr_type:\n",
    "    if BN.attr_type[col] == \"continuous\":\n",
    "        assert set(BN.mapping[col].keys()).issubset(set(BN.mapping_update[col].keys())), col\n",
    "    else:\n",
    "        assert set(BN.encoding[col].values()).issubset(set(BN.encoding_update[col].values())), col"
   ]
  },
  {
   "cell_type": "code",
   "execution_count": null,
   "metadata": {},
   "outputs": [],
   "source": [
    "BN.mapping['attr10']"
   ]
  },
  {
   "cell_type": "code",
   "execution_count": null,
   "metadata": {},
   "outputs": [],
   "source": []
  },
  {
   "cell_type": "code",
   "execution_count": null,
   "metadata": {},
   "outputs": [],
   "source": [
    "print(list(BN.mapping['attr10'].values()))"
   ]
  },
  {
   "cell_type": "code",
   "execution_count": null,
   "metadata": {},
   "outputs": [],
   "source": [
    "for i in range(76):\n",
    "    print(np.sum(BN.model.cpds[10].values[:,i]))"
   ]
  },
  {
   "cell_type": "code",
   "execution_count": null,
   "metadata": {},
   "outputs": [],
   "source": [
    "print(BN.model.cpds[10].evidence)"
   ]
  },
  {
   "cell_type": "code",
   "execution_count": null,
   "metadata": {},
   "outputs": [],
   "source": [
    "print(new_BN.cpds[10].state_names)"
   ]
  },
  {
   "cell_type": "code",
   "execution_count": null,
   "metadata": {},
   "outputs": [],
   "source": [
    "bins = [a[0].left] + [a[k].right for k in a]"
   ]
  },
  {
   "cell_type": "code",
   "execution_count": null,
   "metadata": {},
   "outputs": [],
   "source": [
    "temp = pd.cut(b, bins=bins)"
   ]
  },
  {
   "cell_type": "code",
   "execution_count": null,
   "metadata": {},
   "outputs": [],
   "source": [
    "i = sorted(list(temp.unique()), key=lambda x: x.left)[1]"
   ]
  },
  {
   "cell_type": "code",
   "execution_count": null,
   "metadata": {},
   "outputs": [],
   "source": [
    "vc.nlargest(10)[36.0]"
   ]
  },
  {
   "cell_type": "code",
   "execution_count": null,
   "metadata": {},
   "outputs": [],
   "source": [
    "np.asarray(temp[temp==i].index)"
   ]
  },
  {
   "cell_type": "code",
   "execution_count": null,
   "metadata": {},
   "outputs": [],
   "source": [
    "np.concatenate((np.arange(3), [4]))"
   ]
  },
  {
   "cell_type": "code",
   "execution_count": null,
   "metadata": {},
   "outputs": [],
   "source": [
    "set([1,2,3,4])|set([1,4,5])"
   ]
  },
  {
   "cell_type": "code",
   "execution_count": null,
   "metadata": {},
   "outputs": [],
   "source": [
    "np.unique(np.asarray(list(BN.encoding['attr9'].values())))"
   ]
  },
  {
   "cell_type": "code",
   "execution_count": null,
   "metadata": {},
   "outputs": [],
   "source": [
    "vc[61]"
   ]
  },
  {
   "cell_type": "code",
   "execution_count": null,
   "metadata": {},
   "outputs": [],
   "source": [
    "BN.n_in_bin['attr2']"
   ]
  },
  {
   "cell_type": "code",
   "execution_count": null,
   "metadata": {},
   "outputs": [],
   "source": [
    "np.isclose(1.0000001, 1)"
   ]
  },
  {
   "cell_type": "code",
   "execution_count": null,
   "metadata": {},
   "outputs": [],
   "source": [
    "set([1,2]) == set([2,1])"
   ]
  },
  {
   "cell_type": "code",
   "execution_count": null,
   "metadata": {},
   "outputs": [],
   "source": [
    "set([2,2,2,3,1,4])"
   ]
  },
  {
   "cell_type": "code",
   "execution_count": null,
   "metadata": {},
   "outputs": [],
   "source": [
    "a = np.ones(tuple([4,4]))"
   ]
  },
  {
   "cell_type": "code",
   "execution_count": null,
   "metadata": {},
   "outputs": [],
   "source": [
    "indx = [[1,2,3], [1,2,3], [1,3]]\n",
    "#a[np.array(indx[0]), indx[1], indx[2]]\n",
    "a[np.array(indx[0]), np.array(indx[1]), :].shape"
   ]
  },
  {
   "cell_type": "code",
   "execution_count": null,
   "metadata": {},
   "outputs": [],
   "source": [
    "import pandas as pd"
   ]
  },
  {
   "cell_type": "code",
   "execution_count": null,
   "metadata": {},
   "outputs": [],
   "source": [
    "data_df = pd.DataFrame(a[0,:,:])"
   ]
  },
  {
   "cell_type": "code",
   "execution_count": null,
   "metadata": {},
   "outputs": [],
   "source": [
    "a[[1,2,3]][:,[1,2,3]][:,:,[1,3]] = 0"
   ]
  },
  {
   "cell_type": "code",
   "execution_count": null,
   "metadata": {},
   "outputs": [],
   "source": [
    "a[:3][:3][:2] = 0"
   ]
  },
  {
   "cell_type": "code",
   "execution_count": null,
   "metadata": {},
   "outputs": [],
   "source": [
    "indx = np.asarray([[1,2],[1,2]])\n",
    "a[indx].shape"
   ]
  },
  {
   "cell_type": "code",
   "execution_count": null,
   "metadata": {},
   "outputs": [],
   "source": [
    "a[np.arange(a.shape[0])[:,None],indx]"
   ]
  },
  {
   "cell_type": "code",
   "execution_count": null,
   "metadata": {},
   "outputs": [],
   "source": [
    "a = np.arange(16).reshape((4,4))"
   ]
  },
  {
   "cell_type": "code",
   "execution_count": null,
   "metadata": {},
   "outputs": [],
   "source": [
    "a"
   ]
  },
  {
   "cell_type": "code",
   "execution_count": null,
   "metadata": {},
   "outputs": [],
   "source": [
    "b = [np.asarray([1,2]),np.asarray([1,2,3])]"
   ]
  },
  {
   "cell_type": "code",
   "execution_count": null,
   "metadata": {},
   "outputs": [],
   "source": [
    "a[tuple([b[0].reshape(-1, 1), b[1]])]"
   ]
  },
  {
   "cell_type": "code",
   "execution_count": null,
   "metadata": {},
   "outputs": [],
   "source": [
    "tuple([b[0].reshape(-1, 1), b[1]])"
   ]
  },
  {
   "cell_type": "code",
   "execution_count": null,
   "metadata": {},
   "outputs": [],
   "source": [
    "b[0].reshape((-1, 1, 1)).shape"
   ]
  },
  {
   "cell_type": "code",
   "execution_count": null,
   "metadata": {},
   "outputs": [],
   "source": [
    "def multi_dim_index(a, index):\n",
    "    assert a.ndim == len(index)\n",
    "    new_index = []\n",
    "    n = len(index)\n",
    "    for i, ind in enumerate(index):\n",
    "        ind = np.asarray(ind)\n",
    "        if i != n-1:\n",
    "            new_shape = tuple([-1] + [1]*(n-i-1))\n",
    "        else:\n",
    "            new_shape = -1\n",
    "        new_index.append(ind.reshape(new_shape))\n",
    "    a[tuple(new_index)] = np.ones((2, 3))\n",
    "    return a"
   ]
  },
  {
   "cell_type": "code",
   "execution_count": null,
   "metadata": {},
   "outputs": [],
   "source": [
    "multi_dim_index(a, b)"
   ]
  },
  {
   "cell_type": "code",
   "execution_count": null,
   "metadata": {},
   "outputs": [],
   "source": []
  }
 ],
 "metadata": {
  "kernelspec": {
   "display_name": "Python 3",
   "language": "python",
   "name": "python3"
  },
  "language_info": {
   "codemirror_mode": {
    "name": "ipython",
    "version": 3
   },
   "file_extension": ".py",
   "mimetype": "text/x-python",
   "name": "python",
   "nbconvert_exporter": "python",
   "pygments_lexer": "ipython3",
   "version": "3.7.7"
  }
 },
 "nbformat": 4,
 "nbformat_minor": 4
}
